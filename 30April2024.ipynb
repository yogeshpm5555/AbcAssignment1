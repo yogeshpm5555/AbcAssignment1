{
 "cells": [
  {
   "cell_type": "markdown",
   "id": "53ce1bf2",
   "metadata": {},
   "source": [
    " ### What is 7 to the power of 4?**"
   ]
  },
  {
   "cell_type": "code",
   "execution_count": 1,
   "id": "30b3ebd2",
   "metadata": {},
   "outputs": [
    {
     "data": {
      "text/plain": [
       "2401"
      ]
     },
     "execution_count": 1,
     "metadata": {},
     "output_type": "execute_result"
    }
   ],
   "source": [
    "7**4"
   ]
  },
  {
   "cell_type": "code",
   "execution_count": 2,
   "id": "7bf6e429",
   "metadata": {},
   "outputs": [],
   "source": [
    "s=\"hello everyone, we are learnini Python, and it requires practice\""
   ]
  },
  {
   "cell_type": "code",
   "execution_count": 3,
   "id": "5154e4b4",
   "metadata": {},
   "outputs": [
    {
     "data": {
      "text/plain": [
       "'hello everyone, we are learnini Python, and it requires practice'"
      ]
     },
     "execution_count": 3,
     "metadata": {},
     "output_type": "execute_result"
    }
   ],
   "source": [
    "s"
   ]
  },
  {
   "cell_type": "code",
   "execution_count": 4,
   "id": "ea3fe03e",
   "metadata": {},
   "outputs": [
    {
     "data": {
      "text/plain": [
       "str"
      ]
     },
     "execution_count": 4,
     "metadata": {},
     "output_type": "execute_result"
    }
   ],
   "source": [
    "type(s)"
   ]
  },
  {
   "cell_type": "code",
   "execution_count": 5,
   "id": "4de699c6",
   "metadata": {},
   "outputs": [
    {
     "data": {
      "text/plain": [
       "['hello',\n",
       " 'everyone,',\n",
       " 'we',\n",
       " 'are',\n",
       " 'learnini',\n",
       " 'Python,',\n",
       " 'and',\n",
       " 'it',\n",
       " 'requires',\n",
       " 'practice']"
      ]
     },
     "execution_count": 5,
     "metadata": {},
     "output_type": "execute_result"
    }
   ],
   "source": [
    "s.split()"
   ]
  },
  {
   "cell_type": "code",
   "execution_count": 6,
   "id": "6ac7448b",
   "metadata": {},
   "outputs": [
    {
     "data": {
      "text/plain": [
       "'Python,'"
      ]
     },
     "execution_count": 6,
     "metadata": {},
     "output_type": "execute_result"
    }
   ],
   "source": [
    "s.split()[5]"
   ]
  },
  {
   "cell_type": "code",
   "execution_count": 7,
   "id": "13143b8f",
   "metadata": {},
   "outputs": [
    {
     "data": {
      "text/plain": [
       "'Python'"
      ]
     },
     "execution_count": 7,
     "metadata": {},
     "output_type": "execute_result"
    }
   ],
   "source": [
    "s.split()[5][:6]"
   ]
  },
  {
   "cell_type": "code",
   "execution_count": 8,
   "id": "d348b138",
   "metadata": {},
   "outputs": [
    {
     "data": {
      "text/plain": [
       "'hello everyone, we are learnini Python, and it requires practice'"
      ]
     },
     "execution_count": 8,
     "metadata": {},
     "output_type": "execute_result"
    }
   ],
   "source": [
    "s"
   ]
  },
  {
   "cell_type": "code",
   "execution_count": 10,
   "id": "6ee0f063",
   "metadata": {},
   "outputs": [
    {
     "data": {
      "text/plain": [
       "['hello everyone', ' we are learnini Python', ' and it requires practice']"
      ]
     },
     "execution_count": 10,
     "metadata": {},
     "output_type": "execute_result"
    }
   ],
   "source": [
    "s.split(',')"
   ]
  },
  {
   "cell_type": "code",
   "execution_count": 11,
   "id": "e733c352",
   "metadata": {},
   "outputs": [
    {
     "data": {
      "text/plain": [
       "'hello everyone, we are learnini Python, and it requires practice'"
      ]
     },
     "execution_count": 11,
     "metadata": {},
     "output_type": "execute_result"
    }
   ],
   "source": [
    "s"
   ]
  },
  {
   "cell_type": "code",
   "execution_count": 12,
   "id": "7278038c",
   "metadata": {},
   "outputs": [
    {
     "data": {
      "text/plain": [
       "['hello everyone, we are learnini ', 'ython, and it requires practice']"
      ]
     },
     "execution_count": 12,
     "metadata": {},
     "output_type": "execute_result"
    }
   ],
   "source": [
    "s.split('P')"
   ]
  },
  {
   "cell_type": "code",
   "execution_count": 13,
   "id": "e714331f",
   "metadata": {},
   "outputs": [
    {
     "data": {
      "text/plain": [
       "'hello everyone, we are learnini Python, and it requires practice'"
      ]
     },
     "execution_count": 13,
     "metadata": {},
     "output_type": "execute_result"
    }
   ],
   "source": [
    "s"
   ]
  },
  {
   "cell_type": "code",
   "execution_count": 14,
   "id": "c76f85d2",
   "metadata": {},
   "outputs": [
    {
     "data": {
      "text/plain": [
       "['', '']"
      ]
     },
     "execution_count": 14,
     "metadata": {},
     "output_type": "execute_result"
    }
   ],
   "source": [
    "s.split(\"hello everyone, we are learnini Python, and it requires practice\")"
   ]
  },
  {
   "cell_type": "code",
   "execution_count": 15,
   "id": "394ad7c7",
   "metadata": {},
   "outputs": [],
   "source": [
    "s = \"Hi there Yogesh!\""
   ]
  },
  {
   "cell_type": "code",
   "execution_count": 16,
   "id": "9f633a72",
   "metadata": {},
   "outputs": [
    {
     "data": {
      "text/plain": [
       "['Hi', 'there', 'Yogesh!']"
      ]
     },
     "execution_count": 16,
     "metadata": {},
     "output_type": "execute_result"
    }
   ],
   "source": [
    "s.split()"
   ]
  },
  {
   "cell_type": "code",
   "execution_count": 17,
   "id": "d425e662",
   "metadata": {},
   "outputs": [],
   "source": [
    "planet = \"Earth\"\n",
    "diameter = 12742"
   ]
  },
  {
   "cell_type": "code",
   "execution_count": 18,
   "id": "041057fd",
   "metadata": {},
   "outputs": [
    {
     "data": {
      "text/plain": [
       "'The diameter of Earth is 12742'"
      ]
     },
     "execution_count": 18,
     "metadata": {},
     "output_type": "execute_result"
    }
   ],
   "source": [
    "'The diameter of {} is {}'.format(planet,diameter)"
   ]
  },
  {
   "cell_type": "code",
   "execution_count": 19,
   "id": "d6a1ac4f",
   "metadata": {},
   "outputs": [],
   "source": [
    "def get_domain(email):\n",
    "    parts = email.split('@')  \n",
    "    domain = parts[-1]\n",
    "    return domain"
   ]
  },
  {
   "cell_type": "code",
   "execution_count": 20,
   "id": "837d2f8f",
   "metadata": {},
   "outputs": [
    {
     "data": {
      "text/plain": [
       "'gmail.com'"
      ]
     },
     "execution_count": 20,
     "metadata": {},
     "output_type": "execute_result"
    }
   ],
   "source": [
    "get_domain('sachin@gmail.com')"
   ]
  },
  {
   "cell_type": "code",
   "execution_count": 22,
   "id": "0b17363b",
   "metadata": {},
   "outputs": [
    {
     "data": {
      "text/plain": [
       "'yahoo.com'"
      ]
     },
     "execution_count": 22,
     "metadata": {},
     "output_type": "execute_result"
    }
   ],
   "source": [
    "'abc@yahoo.com'.split('@')[1]"
   ]
  },
  {
   "cell_type": "code",
   "execution_count": 23,
   "id": "165d973f",
   "metadata": {},
   "outputs": [],
   "source": [
    "def fun1(email):\n",
    "    return email.split('@')[1]"
   ]
  },
  {
   "cell_type": "code",
   "execution_count": 24,
   "id": "01c8d56a",
   "metadata": {},
   "outputs": [
    {
     "data": {
      "text/plain": [
       "'yahoo.co.in'"
      ]
     },
     "execution_count": 24,
     "metadata": {},
     "output_type": "execute_result"
    }
   ],
   "source": [
    "fun1('sachin123@yahoo.co.in')"
   ]
  },
  {
   "cell_type": "code",
   "execution_count": 25,
   "id": "f2951565",
   "metadata": {},
   "outputs": [],
   "source": [
    "def dog(input):\n",
    "    return 'dog' in input.lower()"
   ]
  },
  {
   "cell_type": "code",
   "execution_count": 26,
   "id": "cb31421e",
   "metadata": {},
   "outputs": [
    {
     "data": {
      "text/plain": [
       "True"
      ]
     },
     "execution_count": 26,
     "metadata": {},
     "output_type": "execute_result"
    }
   ],
   "source": [
    "'x' in 'abcdxyz'"
   ]
  },
  {
   "cell_type": "code",
   "execution_count": 29,
   "id": "7f2ed8d2",
   "metadata": {},
   "outputs": [
    {
     "data": {
      "text/plain": [
       "False"
      ]
     },
     "execution_count": 29,
     "metadata": {},
     "output_type": "execute_result"
    }
   ],
   "source": [
    "'x' in ['A','y','z']"
   ]
  },
  {
   "cell_type": "code",
   "execution_count": 33,
   "id": "4c846103",
   "metadata": {},
   "outputs": [
    {
     "data": {
      "text/plain": [
       "True"
      ]
     },
     "execution_count": 33,
     "metadata": {},
     "output_type": "execute_result"
    }
   ],
   "source": [
    "dog(\"this is dsfbdfbdDogsdfndfndsaf \")"
   ]
  },
  {
   "cell_type": "code",
   "execution_count": 37,
   "id": "37e3f1c3",
   "metadata": {},
   "outputs": [
    {
     "data": {
      "text/plain": [
       "'this dog runs faster'"
      ]
     },
     "execution_count": 37,
     "metadata": {},
     "output_type": "execute_result"
    }
   ],
   "source": [
    "'this Dog runs faster'.lower()"
   ]
  },
  {
   "cell_type": "code",
   "execution_count": 36,
   "id": "18aff16d",
   "metadata": {},
   "outputs": [
    {
     "data": {
      "text/plain": [
       "True"
      ]
     },
     "execution_count": 36,
     "metadata": {},
     "output_type": "execute_result"
    }
   ],
   "source": [
    "'dog' in 'this Dog runs faster'.lower()"
   ]
  },
  {
   "cell_type": "code",
   "execution_count": 41,
   "id": "15b1018d",
   "metadata": {},
   "outputs": [],
   "source": [
    "def find_dog(s):\n",
    "    return 'dog' in s.lower()"
   ]
  },
  {
   "cell_type": "code",
   "execution_count": 39,
   "id": "11139158",
   "metadata": {},
   "outputs": [
    {
     "data": {
      "text/plain": [
       "True"
      ]
     },
     "execution_count": 39,
     "metadata": {},
     "output_type": "execute_result"
    }
   ],
   "source": [
    "find_dog('this is dog')"
   ]
  },
  {
   "cell_type": "code",
   "execution_count": 42,
   "id": "a09940f1",
   "metadata": {},
   "outputs": [
    {
     "data": {
      "text/plain": [
       "True"
      ]
     },
     "execution_count": 42,
     "metadata": {},
     "output_type": "execute_result"
    }
   ],
   "source": [
    "find_dog('this is DOG')"
   ]
  },
  {
   "cell_type": "code",
   "execution_count": 43,
   "id": "e4de1b89",
   "metadata": {},
   "outputs": [
    {
     "data": {
      "text/plain": [
       "True"
      ]
     },
     "execution_count": 43,
     "metadata": {},
     "output_type": "execute_result"
    }
   ],
   "source": [
    "find_dog(\"this is a dfdsfddog\")"
   ]
  },
  {
   "cell_type": "code",
   "execution_count": 44,
   "id": "f8c4498f",
   "metadata": {},
   "outputs": [],
   "source": [
    "def find_dog(s):\n",
    "    return 'dog' in s.lower().split()"
   ]
  },
  {
   "cell_type": "code",
   "execution_count": 47,
   "id": "faa3b51a",
   "metadata": {},
   "outputs": [
    {
     "data": {
      "text/plain": [
       "['this', 'is', 'dsadsaddogdsalknasd']"
      ]
     },
     "execution_count": 47,
     "metadata": {},
     "output_type": "execute_result"
    }
   ],
   "source": [
    "'this is dsadsaddogdsalknasd'.lower().split()"
   ]
  },
  {
   "cell_type": "code",
   "execution_count": 45,
   "id": "699aeccc",
   "metadata": {},
   "outputs": [
    {
     "data": {
      "text/plain": [
       "False"
      ]
     },
     "execution_count": 45,
     "metadata": {},
     "output_type": "execute_result"
    }
   ],
   "source": [
    "find_dog('this is dsadsaddogdsalknasd')"
   ]
  },
  {
   "cell_type": "code",
   "execution_count": 46,
   "id": "66420bb7",
   "metadata": {},
   "outputs": [
    {
     "data": {
      "text/plain": [
       "True"
      ]
     },
     "execution_count": 46,
     "metadata": {},
     "output_type": "execute_result"
    }
   ],
   "source": [
    "find_dog('this is dsadsaddogdsalknasd DoG')"
   ]
  },
  {
   "cell_type": "code",
   "execution_count": 50,
   "id": "fea1f419",
   "metadata": {},
   "outputs": [],
   "source": [
    "def dog(input):\n",
    "    words = input.lower().split()\n",
    "    count = 0\n",
    "    for word in words:\n",
    "        if word == \"dog\":\n",
    "            count += 1\n",
    "    return count"
   ]
  },
  {
   "cell_type": "code",
   "execution_count": 52,
   "id": "c906c2b3",
   "metadata": {},
   "outputs": [
    {
     "data": {
      "text/plain": [
       "5"
      ]
     },
     "execution_count": 52,
     "metadata": {},
     "output_type": "execute_result"
    }
   ],
   "source": [
    "dog(\"this dog runs faster than that Dog DOG dog DoG\")"
   ]
  },
  {
   "cell_type": "code",
   "execution_count": 53,
   "id": "a0992e06",
   "metadata": {},
   "outputs": [],
   "source": [
    "def count_dog(s):\n",
    "    c=0\n",
    "    for w in s.lower().split():\n",
    "        if w=='dog':\n",
    "            c=c+1\n",
    "    return c"
   ]
  },
  {
   "cell_type": "code",
   "execution_count": 54,
   "id": "80b9defc",
   "metadata": {},
   "outputs": [
    {
     "data": {
      "text/plain": [
       "4"
      ]
     },
     "execution_count": 54,
     "metadata": {},
     "output_type": "execute_result"
    }
   ],
   "source": [
    "count_dog(\"Dog dog DoG dfefdogdsad doG\")"
   ]
  },
  {
   "cell_type": "code",
   "execution_count": 55,
   "id": "a7b05352",
   "metadata": {},
   "outputs": [
    {
     "data": {
      "text/plain": [
       "'C:\\\\Users\\\\yoges\\\\Downloads\\\\dt\\\\sc\\\\1Basic Python-20230317T103746Z-001\\\\1Basic Python'"
      ]
     },
     "execution_count": 55,
     "metadata": {},
     "output_type": "execute_result"
    }
   ],
   "source": [
    "pwd"
   ]
  },
  {
   "cell_type": "code",
   "execution_count": null,
   "id": "9a873749",
   "metadata": {},
   "outputs": [],
   "source": []
  }
 ],
 "metadata": {
  "kernelspec": {
   "display_name": "Python 3 (ipykernel)",
   "language": "python",
   "name": "python3"
  },
  "language_info": {
   "codemirror_mode": {
    "name": "ipython",
    "version": 3
   },
   "file_extension": ".py",
   "mimetype": "text/x-python",
   "name": "python",
   "nbconvert_exporter": "python",
   "pygments_lexer": "ipython3",
   "version": "3.10.9"
  }
 },
 "nbformat": 4,
 "nbformat_minor": 5
}
